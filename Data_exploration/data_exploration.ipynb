{
 "cells": [
  {
   "cell_type": "markdown",
   "id": "c91569b7",
   "metadata": {},
   "source": [
    "# <center>Data Exploration</center>"
   ]
  },
  {
   "cell_type": "code",
   "execution_count": 1,
   "id": "2519c8cd",
   "metadata": {},
   "outputs": [],
   "source": [
    "import os\n",
    "import pandas as pd\n",
    "import torchaudio"
   ]
  },
  {
   "cell_type": "code",
   "execution_count": 2,
   "id": "c2857bf2",
   "metadata": {},
   "outputs": [],
   "source": [
    "tess_data_path = \"/home/alaa/Downloads/Concordia/TÉLUQ/ser/Explo_1/Audio Datasets/TESS Toronto emotional speech set data/tess toronto emotional speech set data/TESS Toronto emotional speech set data/\"\n",
    "iemocap_data_path = \"/home/alaa/Downloads/Concordia/TÉLUQ/ser/Explo_1/Ph.D/\"\n",
    "TESS_path = os.path.abspath(tess_data_path)\n",
    "IEMOCAP_path = os.path.abspath(iemocap_data_path)\n",
    "\n",
    "dir_list_TESS = os.listdir(TESS_path)\n",
    "dir_list_IEMOCAP = os.listdir(IEMOCAP_path)\n"
   ]
  },
  {
   "cell_type": "markdown",
   "id": "6bd2fc84",
   "metadata": {},
   "source": [
    "## TESS Dataset"
   ]
  },
  {
   "cell_type": "code",
   "execution_count": 3,
   "id": "5204ce8c",
   "metadata": {},
   "outputs": [
    {
     "data": {
      "text/plain": [
       "['OAF_Fear',\n",
       " 'OAF_Pleasant_surprise',\n",
       " 'OAF_Sad',\n",
       " 'OAF_angry',\n",
       " 'OAF_disgust',\n",
       " 'OAF_happy',\n",
       " 'OAF_neutral',\n",
       " 'YAF_angry',\n",
       " 'YAF_disgust',\n",
       " 'YAF_fear',\n",
       " 'YAF_happy',\n",
       " 'YAF_neutral',\n",
       " 'YAF_pleasant_surprised',\n",
       " 'YAF_sad']"
      ]
     },
     "execution_count": 3,
     "metadata": {},
     "output_type": "execute_result"
    }
   ],
   "source": [
    "dir_list = os.listdir(TESS_path)\n",
    "dir_list.sort()\n",
    "dir_list"
   ]
  },
  {
   "cell_type": "code",
   "execution_count": 4,
   "id": "6320d661",
   "metadata": {},
   "outputs": [
    {
     "data": {
      "text/html": [
       "<div>\n",
       "<style scoped>\n",
       "    .dataframe tbody tr th:only-of-type {\n",
       "        vertical-align: middle;\n",
       "    }\n",
       "\n",
       "    .dataframe tbody tr th {\n",
       "        vertical-align: top;\n",
       "    }\n",
       "\n",
       "    .dataframe thead th {\n",
       "        text-align: right;\n",
       "    }\n",
       "</style>\n",
       "<table border=\"1\" class=\"dataframe\">\n",
       "  <thead>\n",
       "    <tr style=\"text-align: right;\">\n",
       "      <th></th>\n",
       "      <th>labels</th>\n",
       "      <th>source</th>\n",
       "      <th>path</th>\n",
       "    </tr>\n",
       "  </thead>\n",
       "  <tbody>\n",
       "    <tr>\n",
       "      <th>0</th>\n",
       "      <td>female_fear</td>\n",
       "      <td>TESS</td>\n",
       "      <td>/home/alaa/Downloads/Concordia/TÉLUQ/ser/Explo...</td>\n",
       "    </tr>\n",
       "    <tr>\n",
       "      <th>1</th>\n",
       "      <td>female_fear</td>\n",
       "      <td>TESS</td>\n",
       "      <td>/home/alaa/Downloads/Concordia/TÉLUQ/ser/Explo...</td>\n",
       "    </tr>\n",
       "    <tr>\n",
       "      <th>2</th>\n",
       "      <td>female_fear</td>\n",
       "      <td>TESS</td>\n",
       "      <td>/home/alaa/Downloads/Concordia/TÉLUQ/ser/Explo...</td>\n",
       "    </tr>\n",
       "    <tr>\n",
       "      <th>3</th>\n",
       "      <td>female_fear</td>\n",
       "      <td>TESS</td>\n",
       "      <td>/home/alaa/Downloads/Concordia/TÉLUQ/ser/Explo...</td>\n",
       "    </tr>\n",
       "    <tr>\n",
       "      <th>4</th>\n",
       "      <td>female_fear</td>\n",
       "      <td>TESS</td>\n",
       "      <td>/home/alaa/Downloads/Concordia/TÉLUQ/ser/Explo...</td>\n",
       "    </tr>\n",
       "  </tbody>\n",
       "</table>\n",
       "</div>"
      ],
      "text/plain": [
       "        labels source                                               path\n",
       "0  female_fear   TESS  /home/alaa/Downloads/Concordia/TÉLUQ/ser/Explo...\n",
       "1  female_fear   TESS  /home/alaa/Downloads/Concordia/TÉLUQ/ser/Explo...\n",
       "2  female_fear   TESS  /home/alaa/Downloads/Concordia/TÉLUQ/ser/Explo...\n",
       "3  female_fear   TESS  /home/alaa/Downloads/Concordia/TÉLUQ/ser/Explo...\n",
       "4  female_fear   TESS  /home/alaa/Downloads/Concordia/TÉLUQ/ser/Explo..."
      ]
     },
     "execution_count": 4,
     "metadata": {},
     "output_type": "execute_result"
    }
   ],
   "source": [
    "path = []\n",
    "emotion = []\n",
    "\n",
    "for i in dir_list:\n",
    "    fname = os.listdir(TESS_path + \"/\" + i)\n",
    "    for f in fname:\n",
    "        if i == 'OAF_angry' or i == 'YAF_angry':\n",
    "            emotion.append('female_angry')\n",
    "        elif i == 'OAF_disgust' or i == 'YAF_disgust':\n",
    "            emotion.append('female_disgust')\n",
    "        elif i == 'OAF_Fear' or i == 'YAF_fear':\n",
    "            emotion.append('female_fear')\n",
    "        elif i == 'OAF_happy' or i == 'YAF_happy':\n",
    "            emotion.append('female_happy')\n",
    "        elif i == 'OAF_neutral' or i == 'YAF_neutral':\n",
    "            emotion.append('female_neutral')                                \n",
    "        elif i == 'OAF_Pleasant_surprise' or i == 'YAF_pleasant_surprised':\n",
    "            emotion.append('female_surprise')               \n",
    "        elif i == 'OAF_Sad' or i == 'YAF_sad':\n",
    "            emotion.append('female_sad')\n",
    "        else:\n",
    "            emotion.append('Unknown')\n",
    "        path.append(TESS_path + \"/\" + i + \"/\" + f)\n",
    "\n",
    "TESS_df = pd.DataFrame(emotion, columns = ['labels'])\n",
    "TESS_df['source'] = 'TESS'\n",
    "TESS_df = pd.concat([TESS_df,pd.DataFrame(path, columns = ['path'])],axis=1)\n",
    "TESS_df.labels.value_counts()\n",
    "TESS_df.head()"
   ]
  },
  {
   "cell_type": "code",
   "execution_count": 5,
   "id": "8f8f0f91",
   "metadata": {},
   "outputs": [],
   "source": [
    "TESS_df.to_csv('TESS_dataset.csv', index=False)"
   ]
  },
  {
   "cell_type": "markdown",
   "id": "9d9a70e9",
   "metadata": {},
   "source": [
    "## IEMOCAP Dataset"
   ]
  },
  {
   "cell_type": "code",
   "execution_count": 7,
   "id": "0a760e29",
   "metadata": {},
   "outputs": [
    {
     "data": {
      "text/html": [
       "<div>\n",
       "<style scoped>\n",
       "    .dataframe tbody tr th:only-of-type {\n",
       "        vertical-align: middle;\n",
       "    }\n",
       "\n",
       "    .dataframe tbody tr th {\n",
       "        vertical-align: top;\n",
       "    }\n",
       "\n",
       "    .dataframe thead th {\n",
       "        text-align: right;\n",
       "    }\n",
       "</style>\n",
       "<table border=\"1\" class=\"dataframe\">\n",
       "  <thead>\n",
       "    <tr style=\"text-align: right;\">\n",
       "      <th></th>\n",
       "      <th>path</th>\n",
       "      <th>source</th>\n",
       "      <th>label</th>\n",
       "    </tr>\n",
       "  </thead>\n",
       "  <tbody>\n",
       "    <tr>\n",
       "      <th>0</th>\n",
       "      <td>/home/alaa/Downloads/Concordia/TÉLUQ/ser/Explo...</td>\n",
       "      <td>IEMOCAP</td>\n",
       "      <td>xxx</td>\n",
       "    </tr>\n",
       "    <tr>\n",
       "      <th>1</th>\n",
       "      <td>/home/alaa/Downloads/Concordia/TÉLUQ/ser/Explo...</td>\n",
       "      <td>IEMOCAP</td>\n",
       "      <td>sur</td>\n",
       "    </tr>\n",
       "    <tr>\n",
       "      <th>2</th>\n",
       "      <td>/home/alaa/Downloads/Concordia/TÉLUQ/ser/Explo...</td>\n",
       "      <td>IEMOCAP</td>\n",
       "      <td>exc</td>\n",
       "    </tr>\n",
       "    <tr>\n",
       "      <th>3</th>\n",
       "      <td>/home/alaa/Downloads/Concordia/TÉLUQ/ser/Explo...</td>\n",
       "      <td>IEMOCAP</td>\n",
       "      <td>exc</td>\n",
       "    </tr>\n",
       "    <tr>\n",
       "      <th>4</th>\n",
       "      <td>/home/alaa/Downloads/Concordia/TÉLUQ/ser/Explo...</td>\n",
       "      <td>IEMOCAP</td>\n",
       "      <td>exc</td>\n",
       "    </tr>\n",
       "  </tbody>\n",
       "</table>\n",
       "</div>"
      ],
      "text/plain": [
       "                                                path   source label\n",
       "0  /home/alaa/Downloads/Concordia/TÉLUQ/ser/Explo...  IEMOCAP   xxx\n",
       "1  /home/alaa/Downloads/Concordia/TÉLUQ/ser/Explo...  IEMOCAP   sur\n",
       "2  /home/alaa/Downloads/Concordia/TÉLUQ/ser/Explo...  IEMOCAP   exc\n",
       "3  /home/alaa/Downloads/Concordia/TÉLUQ/ser/Explo...  IEMOCAP   exc\n",
       "4  /home/alaa/Downloads/Concordia/TÉLUQ/ser/Explo...  IEMOCAP   exc"
      ]
     },
     "execution_count": 7,
     "metadata": {},
     "output_type": "execute_result"
    }
   ],
   "source": [
    "records = []\n",
    "label_files = []\n",
    "\n",
    "for i in range(1,6):\n",
    "    \n",
    "    wav_list = os.listdir(IEMOCAP_path+f'/IEMOCAP/Session{i}/sentences/wav/')\n",
    "\n",
    "    for j in wav_list:\n",
    "        records.extend([IEMOCAP_path+f'/IEMOCAP/Session{i}/sentences/wav/'+str(j)+'/'+k for k in os.listdir(IEMOCAP_path+f'/IEMOCAP/Session{i}/sentences/wav/'+str(j)+'/')])\n",
    "    \n",
    "    label_list = os.listdir(IEMOCAP_path+f'/IEMOCAP/Session{i}/dialog/EmoEvaluation/')\n",
    "\n",
    "    for k in label_list:\n",
    "        if len(str(k).split('.')) == 2:\n",
    "            label_files.append(IEMOCAP_path+f'/IEMOCAP/Session{i}/dialog/EmoEvaluation/'+str(k))\n",
    "\n",
    "dic = {}\n",
    "for i in label_files:\n",
    "    dic.update({i : [j for j in records if j.split('/')[14].startswith(i.split('/')[13].split('.')[0])]})\n",
    "\n",
    "segments_emotions = {}\n",
    "for i in dic.keys():\n",
    "    with open(i) as f:\n",
    "        for line in f:\n",
    "            if i.split('/')[13].split('.')[0] in line:\n",
    "                segments_emotions.update({ [j for j in dic.get(i) if line.split('\\t')[1]+'.wav' in j][0] \n",
    "                                        : line.split('\\t')[2] })\n",
    "\n",
    "IEMOCAP_df = pd.DataFrame({'path': segments_emotions.keys(), 'source': 'IEMOCAP', 'label':segments_emotions.values()})"
   ]
  },
  {
   "cell_type": "code",
   "execution_count": 8,
   "id": "5dec96a6",
   "metadata": {},
   "outputs": [
    {
     "data": {
      "text/html": [
       "<div>\n",
       "<style scoped>\n",
       "    .dataframe tbody tr th:only-of-type {\n",
       "        vertical-align: middle;\n",
       "    }\n",
       "\n",
       "    .dataframe tbody tr th {\n",
       "        vertical-align: top;\n",
       "    }\n",
       "\n",
       "    .dataframe thead th {\n",
       "        text-align: right;\n",
       "    }\n",
       "</style>\n",
       "<table border=\"1\" class=\"dataframe\">\n",
       "  <thead>\n",
       "    <tr style=\"text-align: right;\">\n",
       "      <th></th>\n",
       "      <th>path</th>\n",
       "      <th>source</th>\n",
       "      <th>label</th>\n",
       "    </tr>\n",
       "  </thead>\n",
       "  <tbody>\n",
       "    <tr>\n",
       "      <th>0</th>\n",
       "      <td>/home/alaa/Downloads/Concordia/TÉLUQ/ser/Explo...</td>\n",
       "      <td>IEMOCAP</td>\n",
       "      <td>xxx</td>\n",
       "    </tr>\n",
       "    <tr>\n",
       "      <th>1</th>\n",
       "      <td>/home/alaa/Downloads/Concordia/TÉLUQ/ser/Explo...</td>\n",
       "      <td>IEMOCAP</td>\n",
       "      <td>sur</td>\n",
       "    </tr>\n",
       "    <tr>\n",
       "      <th>2</th>\n",
       "      <td>/home/alaa/Downloads/Concordia/TÉLUQ/ser/Explo...</td>\n",
       "      <td>IEMOCAP</td>\n",
       "      <td>exc</td>\n",
       "    </tr>\n",
       "    <tr>\n",
       "      <th>3</th>\n",
       "      <td>/home/alaa/Downloads/Concordia/TÉLUQ/ser/Explo...</td>\n",
       "      <td>IEMOCAP</td>\n",
       "      <td>exc</td>\n",
       "    </tr>\n",
       "    <tr>\n",
       "      <th>4</th>\n",
       "      <td>/home/alaa/Downloads/Concordia/TÉLUQ/ser/Explo...</td>\n",
       "      <td>IEMOCAP</td>\n",
       "      <td>exc</td>\n",
       "    </tr>\n",
       "  </tbody>\n",
       "</table>\n",
       "</div>"
      ],
      "text/plain": [
       "                                                path   source label\n",
       "0  /home/alaa/Downloads/Concordia/TÉLUQ/ser/Explo...  IEMOCAP   xxx\n",
       "1  /home/alaa/Downloads/Concordia/TÉLUQ/ser/Explo...  IEMOCAP   sur\n",
       "2  /home/alaa/Downloads/Concordia/TÉLUQ/ser/Explo...  IEMOCAP   exc\n",
       "3  /home/alaa/Downloads/Concordia/TÉLUQ/ser/Explo...  IEMOCAP   exc\n",
       "4  /home/alaa/Downloads/Concordia/TÉLUQ/ser/Explo...  IEMOCAP   exc"
      ]
     },
     "execution_count": 8,
     "metadata": {},
     "output_type": "execute_result"
    }
   ],
   "source": [
    "IEMOCAP_df.to_csv('IEMOCAP_dataset.csv', index=False)\n",
    "IEMOCAP_df.head()"
   ]
  },
  {
   "cell_type": "code",
   "execution_count": null,
   "id": "e0b680e5",
   "metadata": {},
   "outputs": [],
   "source": []
  }
 ],
 "metadata": {
  "kernelspec": {
   "display_name": "Python 3 (ipykernel)",
   "language": "python",
   "name": "python3"
  },
  "language_info": {
   "codemirror_mode": {
    "name": "ipython",
    "version": 3
   },
   "file_extension": ".py",
   "mimetype": "text/x-python",
   "name": "python",
   "nbconvert_exporter": "python",
   "pygments_lexer": "ipython3",
   "version": "3.7.11"
  }
 },
 "nbformat": 4,
 "nbformat_minor": 5
}
